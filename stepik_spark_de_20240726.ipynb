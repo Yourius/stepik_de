{
  "nbformat": 4,
  "nbformat_minor": 0,
  "metadata": {
    "colab": {
      "provenance": [],
      "authorship_tag": "ABX9TyOSsZYgOIoqFUbmLRjKMY70",
      "include_colab_link": true
    },
    "kernelspec": {
      "name": "python3",
      "display_name": "Python 3"
    },
    "language_info": {
      "name": "python"
    }
  },
  "cells": [
    {
      "cell_type": "markdown",
      "metadata": {
        "id": "view-in-github",
        "colab_type": "text"
      },
      "source": [
        "<a href=\"https://colab.research.google.com/github/Yourius/stepik_de/blob/main/stepik_spark_de_20240726.ipynb\" target=\"_parent\"><img src=\"https://colab.research.google.com/assets/colab-badge.svg\" alt=\"Open In Colab\"/></a>"
      ]
    },
    {
      "cell_type": "code",
      "source": [
        "!pip install faker"
      ],
      "metadata": {
        "colab": {
          "base_uri": "https://localhost:8080/"
        },
        "id": "7YGrgdlAy0MG",
        "outputId": "a5bd71a5-732a-44cf-ff9c-e438a9a422e9"
      },
      "execution_count": 2,
      "outputs": [
        {
          "output_type": "stream",
          "name": "stdout",
          "text": [
            "Collecting faker\n",
            "  Downloading Faker-26.0.0-py3-none-any.whl.metadata (15 kB)\n",
            "Requirement already satisfied: python-dateutil>=2.4 in /usr/local/lib/python3.10/dist-packages (from faker) (2.8.2)\n",
            "Requirement already satisfied: six>=1.5 in /usr/local/lib/python3.10/dist-packages (from python-dateutil>=2.4->faker) (1.16.0)\n",
            "Downloading Faker-26.0.0-py3-none-any.whl (1.8 MB)\n",
            "\u001b[2K   \u001b[90m━━━━━━━━━━━━━━━━━━━━━━━━━━━━━━━━━━━━━━━━\u001b[0m \u001b[32m1.8/1.8 MB\u001b[0m \u001b[31m15.4 MB/s\u001b[0m eta \u001b[36m0:00:00\u001b[0m\n",
            "\u001b[?25hInstalling collected packages: faker\n",
            "Successfully installed faker-26.0.0\n"
          ]
        }
      ]
    },
    {
      "cell_type": "code",
      "source": [
        "!pip install pyspark"
      ],
      "metadata": {
        "colab": {
          "base_uri": "https://localhost:8080/"
        },
        "id": "bpFXcTgC3rc9",
        "outputId": "a9368a8a-5ecd-481e-a01f-1cac2a991b57"
      },
      "execution_count": 26,
      "outputs": [
        {
          "output_type": "stream",
          "name": "stdout",
          "text": [
            "Collecting pyspark\n",
            "  Downloading pyspark-3.5.1.tar.gz (317.0 MB)\n",
            "\u001b[2K     \u001b[90m━━━━━━━━━━━━━━━━━━━━━━━━━━━━━━━━━━━━━━━━\u001b[0m \u001b[32m317.0/317.0 MB\u001b[0m \u001b[31m4.0 MB/s\u001b[0m eta \u001b[36m0:00:00\u001b[0m\n",
            "\u001b[?25h  Preparing metadata (setup.py) ... \u001b[?25l\u001b[?25hdone\n",
            "Requirement already satisfied: py4j==0.10.9.7 in /usr/local/lib/python3.10/dist-packages (from pyspark) (0.10.9.7)\n",
            "Building wheels for collected packages: pyspark\n",
            "  Building wheel for pyspark (setup.py) ... \u001b[?25l\u001b[?25hdone\n",
            "  Created wheel for pyspark: filename=pyspark-3.5.1-py2.py3-none-any.whl size=317488490 sha256=48baa21b40307f4a9a7c5e117f036d43f95061418cf7f4f5e3f8868c82863d11\n",
            "  Stored in directory: /root/.cache/pip/wheels/80/1d/60/2c256ed38dddce2fdd93be545214a63e02fbd8d74fb0b7f3a6\n",
            "Successfully built pyspark\n",
            "Installing collected packages: pyspark\n",
            "Successfully installed pyspark-3.5.1\n"
          ]
        }
      ]
    },
    {
      "cell_type": "code",
      "source": [
        "import csv\n",
        "from faker import Faker\n",
        "import random\n",
        "import pandas as pd\n",
        "\n",
        "from pyspark.sql import SparkSession\n",
        "\n",
        "from pyspark.sql.functions import col\n",
        "from pyspark.sql.functions import to_date"
      ],
      "metadata": {
        "id": "sVrjq3F1zdVE"
      },
      "execution_count": 31,
      "outputs": []
    },
    {
      "cell_type": "code",
      "execution_count": 3,
      "metadata": {
        "colab": {
          "base_uri": "https://localhost:8080/"
        },
        "id": "g1_iSqEwydWA",
        "outputId": "da2e667a-5a2a-48e2-d72c-ed68d6a662aa"
      },
      "outputs": [
        {
          "output_type": "stream",
          "name": "stdout",
          "text": [
            "Сгенерировано 100000 записей и сохранено в web_server_logs.csv\n"
          ]
        }
      ],
      "source": [
        "fake = Faker()\n",
        "\n",
        "num_records = 100000\n",
        "\n",
        "http_methods = ['GET', 'POST', 'PUT', 'DELETE']\n",
        "response_codes = [200, 301, 404, 500]\n",
        "\n",
        "file_path = \"web_server_logs.csv\"\n",
        "\n",
        "with open(file_path, mode='w', newline='') as file:\n",
        "    writer = csv.writer(file)\n",
        "    writer.writerow(['ip', 'timestamp', 'method', 'url', 'response_code', 'response_size'])\n",
        "\n",
        "    for _ in range(num_records):\n",
        "        ip = fake.ipv4()\n",
        "        timestamp = fake.date_time_this_year().isoformat()\n",
        "        method = random.choice(http_methods)\n",
        "        url = fake.uri_path()\n",
        "        response_code = random.choice(response_codes)\n",
        "        response_size = random.randint(100, 10000)\n",
        "\n",
        "        writer.writerow([ip, timestamp, method, url, response_code, response_size])\n",
        "\n",
        "print(f\"Сгенерировано {num_records} записей и сохранено в {file_path}\")"
      ]
    },
    {
      "cell_type": "code",
      "source": [
        "# Создание SparkSession\n",
        "spark = SparkSession.builder.appName(\"Read CSV Example\").getOrCreate()\n",
        "\n",
        "# Чтение CSV-файла\n",
        "df = spark.read.csv(\"/content/web_server_logs.csv\", header=True, inferSchema=True)\n",
        "\n",
        "# Печать схемы DataFrame\n",
        "df.printSchema()\n",
        "\n",
        "# Показ первых 5 строк\n",
        "df.show(5)"
      ],
      "metadata": {
        "colab": {
          "base_uri": "https://localhost:8080/"
        },
        "id": "4xblBCgv0pw7",
        "outputId": "f02f194e-d769-447b-e80f-d729e20d0472"
      },
      "execution_count": 41,
      "outputs": [
        {
          "output_type": "stream",
          "name": "stdout",
          "text": [
            "root\n",
            " |-- ip: string (nullable = true)\n",
            " |-- timestamp: timestamp (nullable = true)\n",
            " |-- method: string (nullable = true)\n",
            " |-- url: string (nullable = true)\n",
            " |-- response_code: integer (nullable = true)\n",
            " |-- response_size: integer (nullable = true)\n",
            "\n",
            "+--------------+--------------------+------+--------------------+-------------+-------------+\n",
            "|            ip|           timestamp|method|                 url|response_code|response_size|\n",
            "+--------------+--------------------+------+--------------------+-------------+-------------+\n",
            "|21.177.134.240|2024-04-24 15:48:...|   PUT|wp-content/tags/e...|          301|         7875|\n",
            "|177.250.27.121|2024-02-08 08:17:...|  POST|              search|          200|         1848|\n",
            "|   100.21.0.41|2024-04-09 11:32:...|  POST|                tags|          404|         2748|\n",
            "|   90.148.4.24|2024-05-14 16:01:...|  POST|            category|          200|          944|\n",
            "|182.185.42.162|2024-01-15 13:17:...|DELETE|category/explore/...|          404|         9351|\n",
            "+--------------+--------------------+------+--------------------+-------------+-------------+\n",
            "only showing top 5 rows\n",
            "\n"
          ]
        }
      ]
    },
    {
      "cell_type": "code",
      "source": [
        "print('TOP active IP addresses:')\n",
        "(df\n",
        " .groupBy('ip')\n",
        " .agg({'response_code':'count'})\n",
        " .withColumnRenamed(\"count(response_code)\", \"request_count\")\n",
        " .orderBy(col(\"request_count\").desc())\n",
        " .show(10)\n",
        ")\n",
        "\n",
        "print('\\nRequest count by HTTP method:')\n",
        "(df\n",
        " .groupBy('method')\n",
        " .agg({'response_code':'count'})\n",
        " .withColumnRenamed(\"count(response_code)\", \"method_count\")\n",
        " .orderBy(col(\"method_count\").desc())\n",
        " .show()\n",
        ")\n",
        "\n",
        "num_resp_code_404=(df\n",
        " .filter(df['response_code'] == '404')\n",
        " .groupBy('response_code')\n",
        " .agg({'response_size':'count'})\n",
        "#  .withColumnRenamed(\"count(response_code)\", \"method_count\")\n",
        "#  .orderBy(col(\"method_count\").desc())\n",
        "#  .show()\n",
        ")\n",
        "print(f'\\nNumber of 404 response codes - {num_resp_code_404.collect()[0][1]}')\n",
        "\n",
        "print('\\nTotal responze size by day:')\n",
        "(df\n",
        " .withColumn(\"day\", to_date(\"timestamp\"))\n",
        " .groupBy('day')\n",
        " .agg({'response_size':'sum'})\n",
        " .withColumnRenamed(\"sum(response_size)\", \"total_response_size\")\n",
        " .orderBy(col(\"day\"))\n",
        " .show(10)\n",
        ")\n",
        "\n",
        "spark.stop()"
      ],
      "metadata": {
        "colab": {
          "base_uri": "https://localhost:8080/"
        },
        "id": "Ep3g3t1C4ir1",
        "outputId": "57fbe667-da14-4756-d8cd-805527b383db"
      },
      "execution_count": 43,
      "outputs": [
        {
          "output_type": "stream",
          "name": "stdout",
          "text": [
            "TOP active IP addresses:\n",
            "+--------------+-------------+\n",
            "|            ip|request_count|\n",
            "+--------------+-------------+\n",
            "| 69.230.227.43|            2|\n",
            "|   100.0.7.150|            2|\n",
            "|118.61.163.113|            1|\n",
            "| 194.186.25.86|            1|\n",
            "|    59.87.9.62|            1|\n",
            "| 93.247.42.225|            1|\n",
            "|  84.92.236.70|            1|\n",
            "|  44.226.241.4|            1|\n",
            "|160.235.18.142|            1|\n",
            "|207.232.59.243|            1|\n",
            "+--------------+-------------+\n",
            "only showing top 10 rows\n",
            "\n",
            "\n",
            "Request count by HTTP method:\n",
            "+------+------------+\n",
            "|method|method_count|\n",
            "+------+------------+\n",
            "|   PUT|       25254|\n",
            "|  POST|       25034|\n",
            "|DELETE|       24904|\n",
            "|   GET|       24808|\n",
            "+------+------------+\n",
            "\n",
            "\n",
            "Number of 404 response codes - 24954\n",
            "\n",
            "Total responze size by day:\n",
            "+----------+-------------------+\n",
            "|       day|total_response_size|\n",
            "+----------+-------------------+\n",
            "|2024-01-01|            2498757|\n",
            "|2024-01-02|            2565887|\n",
            "|2024-01-03|            2620582|\n",
            "|2024-01-04|            2580788|\n",
            "|2024-01-05|            2276749|\n",
            "|2024-01-06|            2427285|\n",
            "|2024-01-07|            2371475|\n",
            "|2024-01-08|            2527982|\n",
            "|2024-01-09|            2274413|\n",
            "|2024-01-10|            2299306|\n",
            "+----------+-------------------+\n",
            "only showing top 10 rows\n",
            "\n"
          ]
        }
      ]
    }
  ]
}